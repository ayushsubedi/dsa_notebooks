{
 "cells": [
  {
   "cell_type": "markdown",
   "metadata": {},
   "source": [
    "Here explain different approaches to handle the error including exception handling. Provide a\n",
    "program implementing try, catch and finally block with different results after executing that\n",
    "program."
   ]
  },
  {
   "cell_type": "markdown",
   "metadata": {},
   "source": [
    "Syntax error: Error that can be catched before execution of the program\n",
    "Semantic error: Error that can only be catched after execution of the program (Try except is useful here)"
   ]
  },
  {
   "cell_type": "code",
   "execution_count": 52,
   "metadata": {
    "collapsed": true
   },
   "outputs": [],
   "source": [
    "my_list = [1, 2, 3]"
   ]
  },
  {
   "cell_type": "code",
   "execution_count": 53,
   "metadata": {},
   "outputs": [
    {
     "data": {
      "text/plain": [
       "1"
      ]
     },
     "execution_count": 53,
     "metadata": {},
     "output_type": "execute_result"
    }
   ],
   "source": [
    "my_list.pop()\n",
    "my_list.pop()\n",
    "my_list.pop()"
   ]
  },
  {
   "cell_type": "code",
   "execution_count": 54,
   "metadata": {},
   "outputs": [
    {
     "data": {
      "text/plain": [
       "[]"
      ]
     },
     "execution_count": 54,
     "metadata": {},
     "output_type": "execute_result"
    }
   ],
   "source": [
    "my_list"
   ]
  },
  {
   "cell_type": "code",
   "execution_count": 55,
   "metadata": {},
   "outputs": [
    {
     "name": "stdout",
     "output_type": "stream",
     "text": [
      "cannot pop, list is empty\n"
     ]
    }
   ],
   "source": [
    "try:\n",
    "    my_list.pop()\n",
    "except Exception as e:\n",
    "    print ('cannot pop, list is empty')"
   ]
  },
  {
   "cell_type": "markdown",
   "metadata": {},
   "source": [
    "try except vs try except else vs try except finally"
   ]
  },
  {
   "cell_type": "code",
   "execution_count": 81,
   "metadata": {},
   "outputs": [
    {
     "name": "stdout",
     "output_type": "stream",
     "text": [
      "except\n",
      "finally\n"
     ]
    }
   ],
   "source": [
    "try:\n",
    "    a = 5\n",
    "#     b = a/1\n",
    "    b = a/0\n",
    "except Exception as e:\n",
    "    print ('except')\n",
    "else:\n",
    "    print ('else')\n",
    "finally:\n",
    "    print ('finally')"
   ]
  },
  {
   "cell_type": "code",
   "execution_count": 58,
   "metadata": {
    "collapsed": true
   },
   "outputs": [],
   "source": [
    "# Queue for integers.\n",
    "# Linked List is usually prefered for Queues\n",
    "# compared to List\n",
    "\n",
    "class SimpleQueue:\n",
    "    def __init__(self):\n",
    "        self.my_list = []\n",
    "    \n",
    "    def queue(self, new_item):\n",
    "        self.my_list.append(new_item)\n",
    "        \n",
    "    def deque(self):\n",
    "        self.my_list.pop(0)\n",
    "        \n",
    "    def queue_print(self):\n",
    "        for i in self.my_list:\n",
    "            print (i)"
   ]
  },
  {
   "cell_type": "code",
   "execution_count": 61,
   "metadata": {},
   "outputs": [],
   "source": [
    "m = SimpleQueue()"
   ]
  },
  {
   "cell_type": "code",
   "execution_count": 62,
   "metadata": {},
   "outputs": [],
   "source": [
    "m.queue_print()"
   ]
  },
  {
   "cell_type": "code",
   "execution_count": 63,
   "metadata": {
    "collapsed": true
   },
   "outputs": [],
   "source": [
    "m.queue(4)"
   ]
  },
  {
   "cell_type": "code",
   "execution_count": 64,
   "metadata": {},
   "outputs": [],
   "source": [
    "m.deque()"
   ]
  },
  {
   "cell_type": "code",
   "execution_count": 65,
   "metadata": {},
   "outputs": [],
   "source": [
    "m.queue_print()"
   ]
  },
  {
   "cell_type": "markdown",
   "metadata": {},
   "source": [
    "Two problems:\n",
    "    1. You cannot deque from an empty queue\n",
    "    2. Our SimpleQueue is only designed for integers\n",
    "How to handle?"
   ]
  },
  {
   "cell_type": "code",
   "execution_count": 82,
   "metadata": {},
   "outputs": [],
   "source": [
    "class SimpleQueue:\n",
    "    def __init__(self):\n",
    "        self.my_list = []\n",
    "    \n",
    "    def queue(self, new_item):\n",
    "        assert type(new_item) is int, 'SimpleQueue only accepts numbers'\n",
    "        self.my_list.append(new_item)\n",
    "        \n",
    "    def deque(self):\n",
    "        assert len(my_list) > 0, 'Cannot deque, queue is empty'\n",
    "        self.my_list.pop(0)\n",
    "        \n",
    "    def queue_print(self):\n",
    "        for i in self.my_list:\n",
    "            print (i)"
   ]
  },
  {
   "cell_type": "code",
   "execution_count": null,
   "metadata": {
    "collapsed": true
   },
   "outputs": [],
   "source": []
  }
 ],
 "metadata": {
  "kernelspec": {
   "display_name": "Python 3",
   "language": "python",
   "name": "python3"
  },
  "language_info": {
   "codemirror_mode": {
    "name": "ipython",
    "version": 3
   },
   "file_extension": ".py",
   "mimetype": "text/x-python",
   "name": "python",
   "nbconvert_exporter": "python",
   "pygments_lexer": "ipython3",
   "version": "3.6.3"
  }
 },
 "nbformat": 4,
 "nbformat_minor": 2
}
