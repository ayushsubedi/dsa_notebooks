{
 "cells": [
  {
   "cell_type": "markdown",
   "metadata": {
    "collapsed": true
   },
   "source": [
    "# Abstract Data Types and Classes\n",
    "\n",
    "\n",
    "\n",
    "## Think about storing a point (the kind that you learnt in coordinate geometry).\n",
    "1. What are the values that you need to store?\n",
    "    What are the data types of the values?\n",
    "    What can and cannot you store? Give Examples\n",
    "2. What are the operations that you can perform?\n",
    "    What inputs and outputs do you expect in each operation?\n",
    "    What might cause an error?\n",
    "3. Document on a piece of paper.\n",
    "4. Write the class in python"
   ]
  },
  {
   "cell_type": "markdown",
   "metadata": {
    "collapsed": true
   },
   "source": [
    "## Use this format:\n",
    "### Abstract Data Type: Point\n",
    "The coordinates of a point are a pair of numbers that define its exact location on a two-dimensional plane. Point is a data type to store a point in two-dimensional plane.\n",
    "\n",
    "\n",
    "| Attributes   \t| Type  \t| Definition                       \t|\n",
    "|--------------\t|-------\t|----------------------------------\t|\n",
    "| x coordinate \t| float \t| value of x coordinate in a point \t|\n",
    "| y coordinate \t| float \t| value of y coordinate in a point \t|\n",
    "\n",
    "Supported types examples: float, int\n",
    "Unsupported types examples: String, List etc. \n",
    "\n",
    "### Operations:\n",
    "| Operation          \t| Input           \t| Input Type \t| Output         \t| Output Type \t| Description                                                                 \t|\n",
    "|--------------------\t|-----------------\t|------------\t|----------------\t|-------------\t|-----------------------------------------------------------------------------\t|\n",
    "| get x              \t| None            \t| -          \t| x coordinate   \t| float       \t| return value of x coordinate                                                \t|\n",
    "| get y              \t| None            \t| -          \t| y coordinate   \t| float       \t| return value of y coordinate                                                \t|\n",
    "| set x              \t| new value for x \t| float      \t| None           \t| -           \t| set new value of x coordinate                                               \t|\n",
    "| set y              \t| new value for y \t| float      \t| None           \t| -           \t| set new value of y coordinate                                               \t|\n",
    "| calculate distance \t| another Point   \t| Point      \t| distance       \t| float       \t| calculate the abs distance between two points                               \t|\n",
    "| which quadrant     \t| None            \t| -          \t| which quadrant \t| int         \t| return 1, 2, 3, 4 for first, second, third and fourth quadrant respectively \t|"
   ]
  },
  {
   "cell_type": "code",
   "execution_count": 1,
   "metadata": {
    "collapsed": true
   },
   "outputs": [],
   "source": [
    "class Point:\n",
    "    def __init__(self, x, y):\n",
    "        self.x=x\n",
    "        self.y=y\n",
    "    \n",
    "    def get_x(self):\n",
    "        return self.x\n",
    "    \n",
    "    def get_y(self):\n",
    "        return self.y\n",
    "    \n",
    "    def set_x(self, new_x):\n",
    "        self.x = new_x\n",
    "        \n",
    "    def set_y(self, new_y):\n",
    "        self.y = new_y\n",
    "    \n",
    "    def calculate_distance(self, new_point):\n",
    "        diff_x = self.x - new_point.get_x()\n",
    "        diff_y = self.y - new_point.get_y()\n",
    "        return (diff_x**2 + diff_y**2) ** (1/2)\n",
    "    \n",
    "    def which_quadrant(self):\n",
    "        if (self.x>=0 and self.y>=0): return 1\n",
    "        if (self.x>=0 and self.y<0): return 4\n",
    "        if (self.x<0 and self.y>=0): return 2\n",
    "        if (self.x<0 and self.y<0): return 3"
   ]
  },
  {
   "cell_type": "code",
   "execution_count": 2,
   "metadata": {
    "collapsed": true
   },
   "outputs": [],
   "source": [
    "idk1 = Point(4, 4)\n",
    "idk1.set_y(0)\n",
    "idk2 = Point(0, 0)"
   ]
  },
  {
   "cell_type": "code",
   "execution_count": 3,
   "metadata": {},
   "outputs": [
    {
     "data": {
      "text/plain": [
       "4.0"
      ]
     },
     "execution_count": 3,
     "metadata": {},
     "output_type": "execute_result"
    }
   ],
   "source": [
    "idk1.calculate_distance(idk2)"
   ]
  },
  {
   "cell_type": "code",
   "execution_count": 4,
   "metadata": {},
   "outputs": [
    {
     "name": "stdout",
     "output_type": "stream",
     "text": [
      "1\n"
     ]
    }
   ],
   "source": [
    "print (idk1.which_quadrant())"
   ]
  }
 ],
 "metadata": {
  "kernelspec": {
   "display_name": "Python 3",
   "language": "python",
   "name": "python3"
  },
  "language_info": {
   "codemirror_mode": {
    "name": "ipython",
    "version": 3
   },
   "file_extension": ".py",
   "mimetype": "text/x-python",
   "name": "python",
   "nbconvert_exporter": "python",
   "pygments_lexer": "ipython3",
   "version": "3.6.3"
  }
 },
 "nbformat": 4,
 "nbformat_minor": 2
}
