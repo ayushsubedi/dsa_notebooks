{
 "cells": [
  {
   "cell_type": "code",
   "execution_count": 4,
   "metadata": {
    "collapsed": true
   },
   "outputs": [],
   "source": [
    "import random\n",
    "import timeit\n",
    "import matplotlib.pyplot as plt\n",
    "%matplotlib inline"
   ]
  },
  {
   "cell_type": "code",
   "execution_count": 2,
   "metadata": {
    "collapsed": true
   },
   "outputs": [],
   "source": [
    "def bubble_sort(A):\n",
    "    n = len(A)\n",
    "    for i in range(0, n+1-2):\n",
    "        for j in range(0, n+1-2-i):\n",
    "            if A[j+1]<A[j]:\n",
    "                A[j], A[j+1] = A[j+1], A[j]\n",
    "    return A"
   ]
  },
  {
   "cell_type": "code",
   "execution_count": null,
   "metadata": {
    "collapsed": true
   },
   "outputs": [],
   "source": [
    "# Complete the following\n",
    "def quick_sort(A):\n",
    "    \n",
    "    \n",
    "    \n",
    "    \n",
    "    \n",
    "    return A"
   ]
  },
  {
   "cell_type": "code",
   "execution_count": 5,
   "metadata": {
    "collapsed": true
   },
   "outputs": [],
   "source": [
    "def random_list_generator(start, end, size):\n",
    "    random_list = []\n",
    "    for i in range(size):\n",
    "        random_num = random.randint(start, end)\n",
    "        random_list.append(random_num)\n",
    "    return random_list"
   ]
  },
  {
   "cell_type": "code",
   "execution_count": null,
   "metadata": {},
   "outputs": [
    {
     "name": "stdout",
     "output_type": "stream",
     "text": [
      "10  -------->  0.000062\n",
      "100  -------->  0.006486\n",
      "1000  -------->  0.341860\n",
      "10000  -------->  18.372555\n"
     ]
    }
   ],
   "source": [
    "list_size = []\n",
    "time_taken = []\n",
    "for i in range(1, 7):\n",
    "    size = 10**i\n",
    "    list_size.append(size)\n",
    "    my_list = random_list_generator(1, 100, size)\n",
    "    start = timeit.default_timer()\n",
    "    bubble_sort(my_list)\n",
    "    end = timeit.default_timer()\n",
    "    time = end - start\n",
    "    time_taken.append(time)\n",
    "    print (size, ' --------> ', '{:f}'.format(time))"
   ]
  },
  {
   "cell_type": "code",
   "execution_count": 11,
   "metadata": {},
   "outputs": [
    {
     "data": {
      "text/plain": [
       "[<matplotlib.lines.Line2D at 0x1ed37883cf8>]"
      ]
     },
     "execution_count": 11,
     "metadata": {},
     "output_type": "execute_result"
    },
    {
     "data": {
      "image/png": "[encoded data removed]",
      "text/plain": [
       "<matplotlib.figure.Figure at 0x1ed3554f470>"
      ]
     },
     "metadata": {},
     "output_type": "display_data"
    }
   ],
   "source": [
    "plt.plot(list_size, time_taken)"
   ]
  },
  {
   "cell_type": "code",
   "execution_count": null,
   "metadata": {
    "collapsed": true
   },
   "outputs": [],
   "source": [
    "list_size = []\n",
    "time_taken = []\n",
    "for i in range(1, 7):\n",
    "    size = 10**i\n",
    "    list_size.append(size)\n",
    "    my_list = random_list_generator(1, 100, size)\n",
    "    start = timeit.default_timer()\n",
    "    # changed to quicksort\n",
    "    quick_sort(my_list)\n",
    "    end = timeit.default_timer()\n",
    "    time = end - start\n",
    "    time_taken.append(time)\n",
    "    print (size, ' --------> ', '{:f}'.format(time))"
   ]
  },
  {
   "cell_type": "code",
   "execution_count": null,
   "metadata": {
    "collapsed": true
   },
   "outputs": [],
   "source": [
    "plt.plot(list_size, time_taken)"
   ]
  }
 ],
 "metadata": {
  "kernelspec": {
   "display_name": "Python 3",
   "language": "python",
   "name": "python3"
  },
  "language_info": {
   "codemirror_mode": {
    "name": "ipython",
    "version": 3
   },
   "file_extension": ".py",
   "mimetype": "text/x-python",
   "name": "python",
   "nbconvert_exporter": "python",
   "pygments_lexer": "ipython3",
   "version": "3.6.3"
  }
 },
 "nbformat": 4,
 "nbformat_minor": 2
}
