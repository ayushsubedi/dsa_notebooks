{
 "cells": [
  {
   "cell_type": "markdown",
   "metadata": {},
   "source": [
    "Please refer to python documentation for the purpose of understanding how to use OOP in python.\n",
    "This notebook is for the purpose of reviewing OOP in other languages that you are familiar with."
   ]
  },
  {
   "cell_type": "code",
   "execution_count": 34,
   "metadata": {
    "collapsed": true
   },
   "outputs": [],
   "source": [
    "class Person:\n",
    "    def __init__(self, first_name, last_name, age):\n",
    "        self._first_name = first_name\n",
    "        self._last_name = last_name\n",
    "        self._age = age\n",
    "    \n",
    "    def user_info(self):\n",
    "        return (f'Name: {self._first_name} {self._last_name} \\nAge: {self._age}')\n",
    "    \n",
    "    def user_name(self):\n",
    "        return (self._first_name)"
   ]
  },
  {
   "cell_type": "code",
   "execution_count": 44,
   "metadata": {
    "collapsed": true
   },
   "outputs": [],
   "source": [
    "person1 = Person('Hari', 'Basnet', '20')"
   ]
  },
  {
   "cell_type": "code",
   "execution_count": 45,
   "metadata": {},
   "outputs": [
    {
     "name": "stdout",
     "output_type": "stream",
     "text": [
      "Name: Hari Basnet \n",
      "Age: 20\n"
     ]
    }
   ],
   "source": [
    "print(person1.user_info())"
   ]
  },
  {
   "cell_type": "code",
   "execution_count": 46,
   "metadata": {
    "collapsed": true
   },
   "outputs": [],
   "source": [
    "class Dog:\n",
    "    def __init__(self, name, breed, gender, age, owner):\n",
    "        self._name = name\n",
    "        self._breed = breed\n",
    "        self._gender = gender\n",
    "        self._age = age\n",
    "        self._owner = owner\n",
    "    \n",
    "    def dog_info(self):\n",
    "        return (f'Name: {self._name} \\nBreed: {self._breed} \\nAge: {self._age}')\n",
    "    \n",
    "    def get_owner(self):\n",
    "        return (self._owner.user_name())\n",
    "    \n",
    "    def get_breed(self):\n",
    "        return (self._breed)"
   ]
  },
  {
   "cell_type": "code",
   "execution_count": 47,
   "metadata": {
    "collapsed": true
   },
   "outputs": [],
   "source": [
    "dog1 = Dog('bhote', 'Tibetan Mastiff', 'Female', '4', person1)"
   ]
  },
  {
   "cell_type": "code",
   "execution_count": 48,
   "metadata": {},
   "outputs": [
    {
     "name": "stdout",
     "output_type": "stream",
     "text": [
      "Name: bhote \n",
      "Breed: Tibetan Mastiff \n",
      "Age: 4\n"
     ]
    }
   ],
   "source": [
    "print (dog1.dog_info())"
   ]
  },
  {
   "cell_type": "code",
   "execution_count": 55,
   "metadata": {},
   "outputs": [],
   "source": [
    "class Point:\n",
    "    def __init__(self, x, y):\n",
    "        self._x = x\n",
    "        self._y = y\n",
    "        \n",
    "    def getX(self):\n",
    "        return self._x\n",
    "    \n",
    "    def getY(self):\n",
    "        return self._y\n",
    "    \n",
    "    def shift(self, xlnc, ylnc):\n",
    "        self._x = self._x + xlnc\n",
    "        self._y = self._y + ylnc\n",
    "        \n",
    "    def distance(self, other_point):\n",
    "        x_diff = self._x - other_point._x\n",
    "        y_diff = self._y - other_point._y\n",
    "        return (x_diff**2+y_diff**2)**(1/2)"
   ]
  },
  {
   "cell_type": "code",
   "execution_count": 60,
   "metadata": {
    "collapsed": true
   },
   "outputs": [],
   "source": [
    "point1 = Point(1, 1)\n",
    "point2 = Point(1, 0)"
   ]
  },
  {
   "cell_type": "code",
   "execution_count": 61,
   "metadata": {},
   "outputs": [
    {
     "data": {
      "text/plain": [
       "1.0"
      ]
     },
     "execution_count": 61,
     "metadata": {},
     "output_type": "execute_result"
    }
   ],
   "source": [
    "point1.distance(point2)"
   ]
  }
 ],
 "metadata": {
  "kernelspec": {
   "display_name": "Python 3",
   "language": "python",
   "name": "python3"
  },
  "language_info": {
   "codemirror_mode": {
    "name": "ipython",
    "version": 3
   },
   "file_extension": ".py",
   "mimetype": "text/x-python",
   "name": "python",
   "nbconvert_exporter": "python",
   "pygments_lexer": "ipython3",
   "version": "3.6.3"
  }
 },
 "nbformat": 4,
 "nbformat_minor": 2
}
